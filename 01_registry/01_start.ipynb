{
 "cells": [
  {
   "cell_type": "code",
   "execution_count": 67,
   "metadata": {},
   "outputs": [],
   "source": [
    "from mmengine import Registry\n",
    "# scope 表示注册器的作用域，如果不设置，默认为包名，例如在 mmdetection 中，它的 scope 为 mmdet\n",
    "ACTIVATION = Registry('activation', scope='mmengine')"
   ]
  },
  {
   "cell_type": "code",
   "execution_count": 68,
   "metadata": {},
   "outputs": [],
   "source": [
    "import torch.nn as nn\n",
    "import torch\n",
    "\n",
    "# 使用注册器管理模块\n",
    "@ACTIVATION.register_module()\n",
    "class Sigmoid(nn.Module):\n",
    "    def __init__(self):\n",
    "        super().__init__()\n",
    "\n",
    "    def forward(self, x):\n",
    "        print('call Sigmoid.forward')\n",
    "        x = torch.sigmoid(x)\n",
    "        return x\n",
    "\n",
    "@ACTIVATION.register_module()\n",
    "class ReLU(nn.Module):\n",
    "    def __init__(self, inplace=False):\n",
    "        super().__init__()\n",
    "\n",
    "    def forward(self, x):\n",
    "        print('call ReLU.forward')\n",
    "        x = torch.relu(x)\n",
    "        return x\n",
    "\n",
    "@ACTIVATION.register_module()\n",
    "class Softmax(nn.Module):\n",
    "    def __init__(self):\n",
    "        super().__init__()\n",
    "\n",
    "    def forward(self, x):\n",
    "        print('call Softmax.forward')\n",
    "        x = torch.softmax(x)\n",
    "        return x"
   ]
  },
  {
   "cell_type": "code",
   "execution_count": 69,
   "metadata": {},
   "outputs": [
    {
     "name": "stdout",
     "output_type": "stream",
     "text": [
      "{'Sigmoid': <class '__main__.Sigmoid'>, 'ReLU': <class '__main__.ReLU'>, 'Softmax': <class '__main__.Softmax'>}\n"
     ]
    }
   ],
   "source": [
    "print(ACTIVATION.module_dict)\n"
   ]
  },
  {
   "cell_type": "code",
   "execution_count": 70,
   "metadata": {},
   "outputs": [
    {
     "name": "stdout",
     "output_type": "stream",
     "text": [
      "call Sigmoid.forward\n",
      "tensor([0.2689, 0.7311])\n"
     ]
    }
   ],
   "source": [
    "import torch\n",
    "input = torch.Tensor([-1, 1])\n",
    "\n",
    "act_cfg = dict(type='Sigmoid')\n",
    "activation = ACTIVATION.build(act_cfg)\n",
    "output = activation(input)\n",
    "# call Sigmoid.forward\n",
    "print(output)\n",
    "# tensor([0.0159, 0.0815])"
   ]
  },
  {
   "cell_type": "code",
   "execution_count": 72,
   "metadata": {},
   "outputs": [
    {
     "name": "stdout",
     "output_type": "stream",
     "text": [
      "call ReLU.forward\n",
      "tensor([0., 1.])\n"
     ]
    }
   ],
   "source": [
    "input = torch.Tensor([-1, 1])\n",
    "\n",
    "act_cfg = dict(type='ReLU', inplace=True)\n",
    "activation = ACTIVATION.build(act_cfg)\n",
    "output = activation(input)\n",
    "# call Sigmoid.forward\n",
    "print(output)\n",
    "# tensor([0.0159, 0.0815])"
   ]
  }
 ],
 "metadata": {
  "kernelspec": {
   "display_name": "Python 3.9.12 ('mmdet-yolo')",
   "language": "python",
   "name": "python3"
  },
  "language_info": {
   "codemirror_mode": {
    "name": "ipython",
    "version": 3
   },
   "file_extension": ".py",
   "mimetype": "text/x-python",
   "name": "python",
   "nbconvert_exporter": "python",
   "pygments_lexer": "ipython3",
   "version": "3.9.12"
  },
  "orig_nbformat": 4,
  "vscode": {
   "interpreter": {
    "hash": "b8e27fa7a4910f0db2656c6311d3024d4c4814786eee182f5bdf8dbffc78e0c0"
   }
  }
 },
 "nbformat": 4,
 "nbformat_minor": 2
}
