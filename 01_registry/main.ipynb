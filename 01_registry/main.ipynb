{
 "cells": [
  {
   "cell_type": "code",
   "execution_count": 3,
   "metadata": {},
   "outputs": [
    {
     "name": "stdout",
     "output_type": "stream",
     "text": [
      "<converters.converter_cls.Converter1 object at 0x7f781688edf0>\n"
     ]
    }
   ],
   "source": [
    "\n",
    "from converters import CONVERTERS\n",
    "\n",
    "\n",
    "converter_cfg = dict(type='Converter1', a=123, b=1213)\n",
    "converter = CONVERTERS.build(converter_cfg)\n",
    "\n",
    "print(converter)\n",
    "# converter3_cfg = dict(type='converter3', a=213, b=2323)\n",
    "# converter3 = CONVERTERS.build(converter3_cfg)\n"
   ]
  }
 ],
 "metadata": {
  "kernelspec": {
   "display_name": "Python 3.9.12 ('mmdet-yolo')",
   "language": "python",
   "name": "python3"
  },
  "language_info": {
   "codemirror_mode": {
    "name": "ipython",
    "version": 3
   },
   "file_extension": ".py",
   "mimetype": "text/x-python",
   "name": "python",
   "nbconvert_exporter": "python",
   "pygments_lexer": "ipython3",
   "version": "3.9.12"
  },
  "orig_nbformat": 4,
  "vscode": {
   "interpreter": {
    "hash": "b8e27fa7a4910f0db2656c6311d3024d4c4814786eee182f5bdf8dbffc78e0c0"
   }
  }
 },
 "nbformat": 4,
 "nbformat_minor": 2
}
