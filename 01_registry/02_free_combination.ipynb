{
 "cells": [
  {
   "cell_type": "code",
   "execution_count": 7,
   "metadata": {},
   "outputs": [
    {
     "ename": "TypeError",
     "evalue": "__init__() missing 1 required positional argument: 'act_type'",
     "output_type": "error",
     "traceback": [
      "\u001b[0;31m---------------------------------------------------------------------------\u001b[0m",
      "\u001b[0;31mTypeError\u001b[0m                                 Traceback (most recent call last)",
      "\u001b[1;32m/project/openmmlab2/mmengine-learn/01_registry/02_free_combination.ipynb Cell 1\u001b[0m in \u001b[0;36m<cell line: 19>\u001b[0;34m()\u001b[0m\n\u001b[1;32m     <a href='vscode-notebook-cell:/project/openmmlab2/mmengine-learn/01_registry/02_free_combination.ipynb#W0sZmlsZQ%3D%3D?line=15'>16</a>\u001b[0m         x \u001b[39m=\u001b[39m \u001b[39mself\u001b[39m\u001b[39m.\u001b[39mact(x)\n\u001b[1;32m     <a href='vscode-notebook-cell:/project/openmmlab2/mmengine-learn/01_registry/02_free_combination.ipynb#W0sZmlsZQ%3D%3D?line=16'>17</a>\u001b[0m         \u001b[39mreturn\u001b[39;00m x\n\u001b[0;32m---> <a href='vscode-notebook-cell:/project/openmmlab2/mmengine-learn/01_registry/02_free_combination.ipynb#W0sZmlsZQ%3D%3D?line=18'>19</a>\u001b[0m conv_block \u001b[39m=\u001b[39m ConvBlock()\n",
      "\u001b[0;31mTypeError\u001b[0m: __init__() missing 1 required positional argument: 'act_type'"
     ]
    }
   ],
   "source": [
    "# 原始方式\n",
    "\n",
    "import torch.nn as nn\n",
    "\n",
    "class ConvBlock(nn.Module):\n",
    "\n",
    "    def __init__(self, act_type):\n",
    "        self.conv = nn.Conv2d()\n",
    "        if act_type == 'relu':\n",
    "            self.act = nn.ReLU()\n",
    "        elif act_type == 'gelu':\n",
    "            self.act = nn.GELU()\n",
    "\n",
    "    def forward(self, x):\n",
    "        x = self.conv(x)\n",
    "        x = self.act(x)\n",
    "        return x\n",
    "\n",
    "conv_block = ConvBlock()\n"
   ]
  },
  {
   "cell_type": "code",
   "execution_count": 5,
   "metadata": {},
   "outputs": [
    {
     "ename": "KeyError",
     "evalue": "'Conv2d is already registered in model at torch.nn.modules.conv'",
     "output_type": "error",
     "traceback": [
      "\u001b[0;31m---------------------------------------------------------------------------\u001b[0m",
      "\u001b[0;31mKeyError\u001b[0m                                  Traceback (most recent call last)",
      "\u001b[1;32m/project/openmmlab2/mmengine-learn/01_registry/02_free_combination.ipynb Cell 2\u001b[0m in \u001b[0;36m<cell line: 5>\u001b[0;34m()\u001b[0m\n\u001b[1;32m      <a href='vscode-notebook-cell:/project/openmmlab2/mmengine-learn/01_registry/02_free_combination.ipynb#W1sZmlsZQ%3D%3D?line=1'>2</a>\u001b[0m \u001b[39mfrom\u001b[39;00m \u001b[39mmmengine\u001b[39;00m \u001b[39mimport\u001b[39;00m MODELS\n\u001b[1;32m      <a href='vscode-notebook-cell:/project/openmmlab2/mmengine-learn/01_registry/02_free_combination.ipynb#W1sZmlsZQ%3D%3D?line=3'>4</a>\u001b[0m \u001b[39m# 将卷积和激活模块注册到 MODELS\u001b[39;00m\n\u001b[0;32m----> <a href='vscode-notebook-cell:/project/openmmlab2/mmengine-learn/01_registry/02_free_combination.ipynb#W1sZmlsZQ%3D%3D?line=4'>5</a>\u001b[0m MODELS\u001b[39m.\u001b[39;49mregister_module(module\u001b[39m=\u001b[39;49mnn\u001b[39m.\u001b[39;49mConv2d)\n\u001b[1;32m      <a href='vscode-notebook-cell:/project/openmmlab2/mmengine-learn/01_registry/02_free_combination.ipynb#W1sZmlsZQ%3D%3D?line=5'>6</a>\u001b[0m MODELS\u001b[39m.\u001b[39mregister_module(module\u001b[39m=\u001b[39mnn\u001b[39m.\u001b[39mReLU)\n\u001b[1;32m      <a href='vscode-notebook-cell:/project/openmmlab2/mmengine-learn/01_registry/02_free_combination.ipynb#W1sZmlsZQ%3D%3D?line=6'>7</a>\u001b[0m MODELS\u001b[39m.\u001b[39mregister_module(module\u001b[39m=\u001b[39mnn\u001b[39m.\u001b[39mGELU)\n",
      "File \u001b[0;32m/project/openmmlab2/mmengine/mmengine/registry/registry.py:512\u001b[0m, in \u001b[0;36mRegistry.register_module\u001b[0;34m(self, name, force, module)\u001b[0m\n\u001b[1;32m    510\u001b[0m \u001b[39m# use it as a normal method: x.register_module(module=SomeClass)\u001b[39;00m\n\u001b[1;32m    511\u001b[0m \u001b[39mif\u001b[39;00m module \u001b[39mis\u001b[39;00m \u001b[39mnot\u001b[39;00m \u001b[39mNone\u001b[39;00m:\n\u001b[0;32m--> 512\u001b[0m     \u001b[39mself\u001b[39;49m\u001b[39m.\u001b[39;49m_register_module(module\u001b[39m=\u001b[39;49mmodule, module_name\u001b[39m=\u001b[39;49mname, force\u001b[39m=\u001b[39;49mforce)\n\u001b[1;32m    513\u001b[0m     \u001b[39mreturn\u001b[39;00m module\n\u001b[1;32m    515\u001b[0m \u001b[39m# use it as a decorator: @x.register_module()\u001b[39;00m\n",
      "File \u001b[0;32m/project/openmmlab2/mmengine/mmengine/registry/registry.py:462\u001b[0m, in \u001b[0;36mRegistry._register_module\u001b[0;34m(self, module, module_name, force)\u001b[0m\n\u001b[1;32m    460\u001b[0m \u001b[39mif\u001b[39;00m \u001b[39mnot\u001b[39;00m force \u001b[39mand\u001b[39;00m name \u001b[39min\u001b[39;00m \u001b[39mself\u001b[39m\u001b[39m.\u001b[39m_module_dict:\n\u001b[1;32m    461\u001b[0m     existed_module \u001b[39m=\u001b[39m \u001b[39mself\u001b[39m\u001b[39m.\u001b[39mmodule_dict[name]\n\u001b[0;32m--> 462\u001b[0m     \u001b[39mraise\u001b[39;00m \u001b[39mKeyError\u001b[39;00m(\u001b[39mf\u001b[39m\u001b[39m'\u001b[39m\u001b[39m{\u001b[39;00mname\u001b[39m}\u001b[39;00m\u001b[39m is already registered in \u001b[39m\u001b[39m{\u001b[39;00m\u001b[39mself\u001b[39m\u001b[39m.\u001b[39mname\u001b[39m}\u001b[39;00m\u001b[39m \u001b[39m\u001b[39m'\u001b[39m\n\u001b[1;32m    463\u001b[0m                    \u001b[39mf\u001b[39m\u001b[39m'\u001b[39m\u001b[39mat \u001b[39m\u001b[39m{\u001b[39;00mexisted_module\u001b[39m.\u001b[39m\u001b[39m__module__\u001b[39m\u001b[39m}\u001b[39;00m\u001b[39m'\u001b[39m)\n\u001b[1;32m    464\u001b[0m \u001b[39mself\u001b[39m\u001b[39m.\u001b[39m_module_dict[name] \u001b[39m=\u001b[39m module\n",
      "\u001b[0;31mKeyError\u001b[0m: 'Conv2d is already registered in model at torch.nn.modules.conv'"
     ]
    }
   ],
   "source": [
    "import torch.nn as nn\n",
    "from mmengine import MODELS\n",
    "\n",
    "# 将卷积和激活模块注册到 MODELS\n",
    "# MODELS.register_module(module=nn.Conv2d)\n",
    "# MODELS.register_module(module=nn.ReLU)\n",
    "# MODELS.register_module(module=nn.GELU)\n",
    "\n",
    "class ConvBlock(nn.Module):\n",
    "\n",
    "    def __init__(self, conv_cfg, act_cfg):\n",
    "        self.conv = MODELS.build(conv_cfg)\n",
    "        self.pool = MODELS.build(act_cfg)\n",
    "\n",
    "    def forward(self, x):\n",
    "        x = self.conv(x)\n",
    "        x = self.act(x)\n",
    "        return x\n",
    "\n",
    "# 注意，conv_cfg 和 act_cfg 可以通过解析配置文件得到\n",
    "conv_cfg = dict(type='Conv2d', in_channels=3, out_channels=256, kernel_size=3)\n",
    "act_cfg = dict(type='GELU')\n",
    "conv_block = ConvBlock(conv_cfg, act_cfg)"
   ]
  }
 ],
 "metadata": {
  "kernelspec": {
   "display_name": "Python 3.9.12 ('mmdet-yolo')",
   "language": "python",
   "name": "python3"
  },
  "language_info": {
   "codemirror_mode": {
    "name": "ipython",
    "version": 3
   },
   "file_extension": ".py",
   "mimetype": "text/x-python",
   "name": "python",
   "nbconvert_exporter": "python",
   "pygments_lexer": "ipython3",
   "version": "3.9.12"
  },
  "orig_nbformat": 4,
  "vscode": {
   "interpreter": {
    "hash": "b8e27fa7a4910f0db2656c6311d3024d4c4814786eee182f5bdf8dbffc78e0c0"
   }
  }
 },
 "nbformat": 4,
 "nbformat_minor": 2
}
