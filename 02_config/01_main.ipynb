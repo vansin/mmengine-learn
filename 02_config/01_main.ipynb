{
 "cells": [
  {
   "cell_type": "code",
   "execution_count": null,
   "metadata": {},
   "outputs": [],
   "source": [
    "!wget https://raw.githubusercontent.com/open-mmlab/mmengine/main/docs/resources/config/config_sgd.py\n",
    "!wget https://raw.githubusercontent.com/open-mmlab/mmengine/main/docs/resources/config/cross_repo.py\n",
    "!wget https://raw.githubusercontent.com/open-mmlab/mmengine/main/docs/resources/config/custom_imports.py\n",
    "!wget https://raw.githubusercontent.com/open-mmlab/mmengine/main/docs/resources/config/demo_train.py\n",
    "!wget https://raw.githubusercontent.com/open-mmlab/mmengine/main/docs/resources/config/example.py\n",
    "!wget https://raw.githubusercontent.com/open-mmlab/mmengine/main/docs/resources/config/learn_read_config.py\n",
    "!wget https://raw.githubusercontent.com/open-mmlab/mmengine/main/docs/resources/config/my_module.py\n",
    "!wget https://raw.githubusercontent.com/open-mmlab/mmengine/main/docs/resources/config/optimizer_cfg.py\n",
    "!wget https://raw.githubusercontent.com/open-mmlab/mmengine/main/docs/resources/config/predefined_var.py\n",
    "!wget https://raw.githubusercontent.com/open-mmlab/mmengine/main/docs/resources/config/refer_base_var.py\n",
    "!wget https://raw.githubusercontent.com/open-mmlab/mmengine/main/docs/resources/config/resnet50_delete_key.py\n",
    "!wget https://raw.githubusercontent.com/open-mmlab/mmengine/main/docs/resources/config/resnet50_lr0.01.py\n",
    "!wget https://raw.githubusercontent.com/open-mmlab/mmengine/main/docs/resources/config/resnet50_runtime.py\n",
    "!wget https://raw.githubusercontent.com/open-mmlab/mmengine/main/docs/resources/config/resnet50.py\n",
    "!wget https://raw.githubusercontent.com/open-mmlab/mmengine/main/docs/resources/config/runtime_cfg.py\n",
    "!wget https://raw.githubusercontent.com/open-mmlab/mmengine/main/docs/resources/config/modify_base_var.py"
   ]
  },
  {
   "cell_type": "code",
   "execution_count": null,
   "metadata": {},
   "outputs": [],
   "source": [
    "from mmengine.config import Config\n",
    "\n",
    "cfg = Config.fromfile('learn_read_config.py')\n",
    "print(cfg)"
   ]
  },
  {
   "cell_type": "code",
   "execution_count": null,
   "metadata": {},
   "outputs": [],
   "source": [
    "print(cfg.test_int)\n",
    "print(cfg.test_list)\n",
    "print(cfg.test_dict)\n",
    "cfg.test_int = 2\n",
    "\n",
    "print(cfg['test_int'])\n",
    "print(cfg['test_list'])\n",
    "print(cfg['test_dict'])\n",
    "cfg['test_list'][1] = 3\n",
    "print(cfg['test_list'])"
   ]
  },
  {
   "cell_type": "code",
   "execution_count": null,
   "metadata": {},
   "outputs": [],
   "source": [
    "from mmengine import Config\n",
    "from mmengine.registry import OPTIMIZERS\n",
    "\n",
    "import torch.nn as nn\n",
    "\n",
    "cfg = Config.fromfile('config_sgd.py')\n",
    "\n",
    "model = nn.Conv2d(1, 1, 1)\n",
    "cfg.optimizer.params = model.parameters()\n",
    "optimizer = OPTIMIZERS.build(cfg.optimizer)\n",
    "print(optimizer)"
   ]
  },
  {
   "cell_type": "code",
   "execution_count": null,
   "metadata": {},
   "outputs": [],
   "source": [
    "cfg = Config.fromfile('resnet50.py')\n",
    "print(cfg.optimizer)"
   ]
  },
  {
   "cell_type": "code",
   "execution_count": null,
   "metadata": {},
   "outputs": [],
   "source": [
    "cfg = Config.fromfile('resnet50_runtime.py')\n",
    "print(cfg.optimizer)"
   ]
  },
  {
   "cell_type": "code",
   "execution_count": null,
   "metadata": {},
   "outputs": [],
   "source": [
    "cfg = Config.fromfile('resnet50_lr0.01.py')\n",
    "print(cfg.optimizer)"
   ]
  },
  {
   "cell_type": "code",
   "execution_count": 13,
   "metadata": {},
   "outputs": [],
   "source": [
    "cfg = Config.fromfile('resnet50_delete_key.py')\n",
    "print(cfg.optimizer)"
   ]
  },
  {
   "cell_type": "code",
   "execution_count": null,
   "metadata": {},
   "outputs": [],
   "source": [
    "cfg = Config.fromfile('refer_base_var.py')\n",
    "print(cfg.a)"
   ]
  },
  {
   "cell_type": "code",
   "execution_count": null,
   "metadata": {},
   "outputs": [],
   "source": [
    "cfg = Config.fromfile('modify_base_var.py')\n",
    "print(cfg.a)"
   ]
  }
 ],
 "metadata": {
  "kernelspec": {
   "display_name": "Python 3.9.12 ('mmdet-yolo')",
   "language": "python",
   "name": "python3"
  },
  "language_info": {
   "codemirror_mode": {
    "name": "ipython",
    "version": 3
   },
   "file_extension": ".py",
   "mimetype": "text/x-python",
   "name": "python",
   "nbconvert_exporter": "python",
   "pygments_lexer": "ipython3",
   "version": "3.9.12"
  },
  "orig_nbformat": 4,
  "vscode": {
   "interpreter": {
    "hash": "b8e27fa7a4910f0db2656c6311d3024d4c4814786eee182f5bdf8dbffc78e0c0"
   }
  }
 },
 "nbformat": 4,
 "nbformat_minor": 2
}
