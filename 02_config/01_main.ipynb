{
 "cells": [
  {
   "cell_type": "code",
   "execution_count": null,
   "metadata": {},
   "outputs": [],
   "source": [
    "# 文件中加载config\n",
    "from mmengine import Config\n",
    "\n",
    "cfg = Config.fromfile('config.py')\n",
    "\n",
    "print(cfg)"
   ]
  },
  {
   "cell_type": "code",
   "execution_count": null,
   "metadata": {},
   "outputs": [],
   "source": [
    "cfg = Config.fromfile('config.py')\n",
    "\n",
    "print(cfg)\n",
    "\n",
    "cfg.test_int  # 1\n",
    "cfg.test_list  # [1, 2, 3]\n",
    "cfg.test_dict  # ConfigDict(key1='value1', key2=0.1)\n",
    "cfg.test_int = 2  # 这里发生了配置字段修改，test_int 字段的值变成了 2\n",
    "\n",
    "cfg['test_int']  # 2\n",
    "cfg['test_list']  # [1, 2, 3]\n",
    "cfg['test_dict']  # ConfigDict(key1='value1', key2=0.1)\n",
    "cfg['test_list'][1] = 3  # 这里发生了字段修改，test_list 字段的值变成了 [1, 3, 3]\n",
    "\n",
    "print(cfg)"
   ]
  },
  {
   "cell_type": "code",
   "execution_count": null,
   "metadata": {},
   "outputs": [],
   "source": [
    "from mmengine import Config\n",
    "from mmengine.optim import OPTIMIZERS\n",
    "\n",
    "cfg = Config.fromfile('config_sgd.py')\n",
    "optimizer = OPTIMIZERS.build(cfg.optimizer)\n",
    "# 这里 optimizer 就是一个 torch.optim.SGD 对象"
   ]
  },
  {
   "cell_type": "code",
   "execution_count": 10,
   "metadata": {},
   "outputs": [
    {
     "name": "stdout",
     "output_type": "stream",
     "text": [
      "{'type': 'ResNet', 'depth': 50}\n"
     ]
    }
   ],
   "source": [
    "# 继承机制\n",
    "_base_ = ['optimizer_cfg.py']\n",
    "model = dict(type='ResNet', depth=50)\n",
    "\n",
    "print(model)"
   ]
  },
  {
   "cell_type": "code",
   "execution_count": 12,
   "metadata": {},
   "outputs": [],
   "source": [
    "# 从两个文件中继承\n",
    "\n",
    "_base_ = ['optimizer_cfg.py', 'runtime_cfg.py']\n",
    "model = dict(type='ResNet', depth=50)"
   ]
  },
  {
   "cell_type": "code",
   "execution_count": 14,
   "metadata": {},
   "outputs": [
    {
     "name": "stdout",
     "output_type": "stream",
     "text": [
      "\n"
     ]
    }
   ],
   "source": [
    "# 修改继承字段\n",
    "_base_ = ['optimizer_cfg.py', 'runtime_cfg.py']\n",
    "model = dict(type='ResNet', depth=50)\n",
    "optimizer = dict(lr=0.01)\n",
    "\n",
    "print()"
   ]
  },
  {
   "cell_type": "code",
   "execution_count": 22,
   "metadata": {},
   "outputs": [
    {
     "name": "stdout",
     "output_type": "stream",
     "text": [
      "Config (path: resnet50_lr0.01.py): {'optimizer': {'type': 'SGD', 'lr': 0.01, 'momentum': 0.9, 'weight_decay': 0.0001}, 'gpu_ids': [0, 1], 'model': {'type': 'ResNet', 'depth': 50}}\n"
     ]
    }
   ],
   "source": [
    "cfg = Config.fromfile('resnet50_lr0.01.py')\n",
    "print(cfg)"
   ]
  },
  {
   "cell_type": "code",
   "execution_count": 23,
   "metadata": {},
   "outputs": [],
   "source": [
    "# 对于非字典类型的字段，例如整数，字符串，列表等，重新定义即可完全覆盖，例如下面的写法就将 gpu_ids 这个字段的值修改成了 [0]。\n",
    "\n",
    "_base_ = ['optimizer_cfg.py', 'runtime_cfg.py']\n",
    "model = dict(type='ResNet', depth=50)\n",
    "gpu_ids = [0]"
   ]
  },
  {
   "cell_type": "code",
   "execution_count": null,
   "metadata": {},
   "outputs": [],
   "source": [
    "_base_ = ['optimizer_cfg.py', 'runtime_cfg.py']\n",
    "model = dict(type='ResNet', depth=50)\n",
    "optimizer = dict(_delete_=True, type='SGD', lr=0.01)"
   ]
  }
 ],
 "metadata": {
  "kernelspec": {
   "display_name": "Python 3.9.12 ('mmdet-yolo')",
   "language": "python",
   "name": "python3"
  },
  "language_info": {
   "codemirror_mode": {
    "name": "ipython",
    "version": 3
   },
   "file_extension": ".py",
   "mimetype": "text/x-python",
   "name": "python",
   "nbconvert_exporter": "python",
   "pygments_lexer": "ipython3",
   "version": "3.9.12"
  },
  "orig_nbformat": 4,
  "vscode": {
   "interpreter": {
    "hash": "b8e27fa7a4910f0db2656c6311d3024d4c4814786eee182f5bdf8dbffc78e0c0"
   }
  }
 },
 "nbformat": 4,
 "nbformat_minor": 2
}
